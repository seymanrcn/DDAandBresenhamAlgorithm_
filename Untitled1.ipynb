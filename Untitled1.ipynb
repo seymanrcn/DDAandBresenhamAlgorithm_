{
  "nbformat": 4,
  "nbformat_minor": 0,
  "metadata": {
    "colab": {
      "provenance": []
    },
    "kernelspec": {
      "name": "python3",
      "display_name": "Python 3"
    },
    "language_info": {
      "name": "python"
    }
  },
  "cells": [
    {
      "cell_type": "code",
      "execution_count": null,
      "metadata": {
        "id": "f53IoPMrOBqC",
        "outputId": "2c18bce8-34cc-48bd-cf3e-dbc889ba2002",
        "colab": {
          "base_uri": "https://localhost:8080/",
          "height": 452
        }
      },
      "outputs": [
        {
          "output_type": "display_data",
          "data": {
            "text/plain": [
              "<Figure size 640x480 with 1 Axes>"
            ],
            "image/png": "[encoded data removed]"
          },
          "metadata": {}
        }
      ],
      "source": [
        "import matplotlib.pyplot as plt\n",
        "\n",
        "# DDA algoritması (Digital Differential Analyzer)\n",
        "def dda(x1, y1, x2, y2):\n",
        "    x, y = x1, y1  # Başlangıç noktası\n",
        "    dx = x2 - x1  # X koordinatları arasındaki fark\n",
        "    dy = y2 - y1  # Y koordinatları arasındaki fark\n",
        "    steps = max(abs(dx), abs(dy))  # Çizim için gereken adım sayısı\n",
        "    Xinc = dx / steps  # Her adımda X'in artış miktarı\n",
        "    Yinc = dy / steps  # Her adımda Y'nin artış miktarı\n",
        "    points = []\n",
        "\n",
        "    # DDA algoritması ile noktaları hesapla\n",
        "    for _ in range(int(steps)):\n",
        "        points.append((x, y))\n",
        "        x += Xinc\n",
        "        y += Yinc\n",
        "    points.append((x2, y2))  # Hedef noktayı da ekle\n",
        "    return points\n",
        "\n",
        "# Bresenham algoritması\n",
        "def bresenham(x1, y1, x2, y2):\n",
        "    points = []\n",
        "    x, y = x1, y1\n",
        "    dx = abs(x2 - x1)\n",
        "    dy = abs(y2 - y1)\n",
        "    sx = 1 if x1 < x2 else -1\n",
        "    sy = 1 if y1 < y2 else -1\n",
        "\n",
        "    if dx > dy:\n",
        "        err = dx / 2.0\n",
        "        while x != x2:\n",
        "            points.append((x, y))\n",
        "            err -= dy\n",
        "            if err < 0:\n",
        "                y += sy\n",
        "                err += dx\n",
        "            x += sx\n",
        "    else:\n",
        "        err = dy / 2.0\n",
        "        while y != y2:\n",
        "            points.append((x, y))\n",
        "            err -= dx\n",
        "            if err < 0:\n",
        "                x += sx\n",
        "                err += dy\n",
        "            y += sy\n",
        "    points.append((x, y))\n",
        "    return points\n",
        "\n",
        "# Çizgiyi çizme fonksiyonu\n",
        "def draw_line(points, color):\n",
        "    x_values = [p[0] for p in points]\n",
        "    y_values = [p[1] for p in points]\n",
        "    plt.plot(x_values, y_values, color=color)\n",
        "\n",
        "# Ev çizimi (Kare taban ve üçgen çatı)\n",
        "def draw_house():\n",
        "    plt.figure()\n",
        "\n",
        "    # Kare tabanı (DDA ile)\n",
        "    base1 = dda(2, 2, 8, 2)\n",
        "    base2 = dda(8, 2, 8, 5)\n",
        "    base3 = dda(8, 5, 2, 5)\n",
        "    base4 = dda(2, 5, 2, 2)\n",
        "\n",
        "    # Çatı (Bresenham ile)\n",
        "    roof1 = bresenham(2, 5, 5, 8)\n",
        "    roof2 = bresenham(5, 8, 8, 5)\n",
        "\n",
        "    # Tabanı çiz\n",
        "    draw_line(base1, 'blue')  # mavi çizgi\n",
        "    draw_line(base2, 'blue')\n",
        "    draw_line(base3, 'blue')\n",
        "    draw_line(base4, 'blue')\n",
        "\n",
        "    # Çatıyı çiz\n",
        "    draw_line(roof1, 'black')  # siyah çizgi\n",
        "    draw_line(roof2, 'black')\n",
        "\n",
        "    plt.title('Ev Şekli - DDA (Taban) ve Bresenham (Çatı)')\n",
        "    plt.gca().set_aspect('equal', adjustable='box')\n",
        "    plt.show()\n",
        "\n",
        "# Ev çizimini göster\n",
        "draw_house()\n"
      ]
    }
  ]
}